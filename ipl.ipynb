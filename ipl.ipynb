{
 "cells": [
  {
   "cell_type": "code",
   "execution_count": 13,
   "metadata": {},
   "outputs": [
    {
     "name": "stdout",
     "output_type": "stream",
     "text": [
      "Target Distribution:\n",
      "target\n",
      "0    1886\n",
      "1     331\n",
      "Name: count, dtype: int64\n",
      "\n",
      "Runs Stats:\n",
      "count    2217.000000\n",
      "mean       21.519621\n",
      "std         8.055185\n",
      "min         2.000000\n",
      "25%        16.000000\n",
      "50%        21.000000\n",
      "75%        26.000000\n",
      "max        66.000000\n",
      "Name: total_runs, dtype: float64\n",
      "\n",
      "Sample Data:\n",
      "   match_id  innings  total_runs  target\n",
      "0    335982        1          27       0\n",
      "1    335982        2          12       0\n",
      "2    335983        1          27       0\n",
      "3    335983        2          27       0\n",
      "4    335984        1          17       0\n"
     ]
    },
    {
     "name": "stderr",
     "output_type": "stream",
     "text": [
      "C:\\Users\\Pulkit\\AppData\\Local\\Temp\\ipykernel_43348\\3546599485.py:10: SettingWithCopyWarning: \n",
      "A value is trying to be set on a copy of a slice from a DataFrame.\n",
      "Try using .loc[row_indexer,col_indexer] = value instead\n",
      "\n",
      "See the caveats in the documentation: https://pandas.pydata.org/pandas-docs/stable/user_guide/indexing.html#returning-a-view-versus-a-copy\n",
      "  df_first_3['total_runs'] = df_first_3['runs_batter'] + df_first_3['runs_extras']\n"
     ]
    }
   ],
   "source": [
    "import pandas as pd\n",
    "\n",
    "# Load the dataset\n",
    "df = pd.read_csv('IPL.csv', low_memory=False)\n",
    "\n",
    "# Filter for first 3 overs (over starts at 0, so 0, 1, 2)\n",
    "df_first_3 = df[df['over'] <= 2]\n",
    "\n",
    "# Calculate total runs per ball\n",
    "df_first_3['total_runs'] = df_first_3['runs_batter'] + df_first_3['runs_extras']\n",
    "\n",
    "# Group by match_id and innings\n",
    "runs_per_match = df_first_3.groupby(['match_id', 'innings'])['total_runs'].sum().reset_index()\n",
    "\n",
    "# Create target variable\n",
    "runs_per_match['target'] = (runs_per_match['total_runs'] >= 30).astype(int)\n",
    "\n",
    "# Check distribution and stats\n",
    "print(\"Target Distribution:\")\n",
    "print(runs_per_match['target'].value_counts())\n",
    "print(\"\\nRuns Stats:\")\n",
    "print(runs_per_match['total_runs'].describe())\n",
    "print(\"\\nSample Data:\")\n",
    "print(runs_per_match.head())"
   ]
  },
  {
   "cell_type": "code",
   "execution_count": 3,
   "metadata": {},
   "outputs": [
    {
     "name": "stdout",
     "output_type": "stream",
     "text": [
      "   match_id  innings  total_runs  target\n",
      "0    335982        1           0       0\n",
      "1    335982        2           0       0\n",
      "2    335983        1           0       0\n",
      "3    335983        2           0       0\n",
      "4    335984        1           0       0\n"
     ]
    },
    {
     "name": "stderr",
     "output_type": "stream",
     "text": [
      "C:\\Users\\Pulkit\\AppData\\Local\\Temp\\ipykernel_43348\\3584102196.py:7: SettingWithCopyWarning: \n",
      "A value is trying to be set on a copy of a slice from a DataFrame.\n",
      "Try using .loc[row_indexer,col_indexer] = value instead\n",
      "\n",
      "See the caveats in the documentation: https://pandas.pydata.org/pandas-docs/stable/user_guide/indexing.html#returning-a-view-versus-a-copy\n",
      "  df_first_3['total_runs'] = df_first_3.get('runs_off_bat', 0) + df_first_3.get('extras', 0)\n"
     ]
    }
   ],
   "source": [
    "# Filter for first 3 overs (adjust column names based on your dataset)\n",
    "# Assuming 'over' starts at 1 (1, 2, 3) and 'inning' differentiates innings\n",
    "df_first_3 = df[df['over'] <= 3]  # Modify 'over' to match your column name\n",
    "\n",
    "# Calculate total runs per match and innings\n",
    "# Assuming 'runs_off_bat' and 'extras' are columns for runs\n",
    "df_first_3['total_runs'] = df_first_3.get('runs_off_bat', 0) + df_first_3.get('extras', 0)\n",
    "\n",
    "# Group by match_id and inning to get runs in first 3 overs\n",
    "runs_per_match = df_first_3.groupby(['match_id', 'innings'])['total_runs'].sum().reset_index()\n",
    "\n",
    "# Create target variable: 1 if runs >= 30, 0 if < 30\n",
    "runs_per_match['target'] = (runs_per_match['total_runs'] >= 30).astype(int)\n",
    "\n",
    "print(runs_per_match.head())"
   ]
  },
  {
   "cell_type": "code",
   "execution_count": 6,
   "metadata": {},
   "outputs": [
    {
     "name": "stdout",
     "output_type": "stream",
     "text": [
      "   match_id  innings  total_runs  target                 batting_team  \\\n",
      "0    335982        1           0       0        Kolkata Knight Riders   \n",
      "1    335982        2           0       0  Royal Challengers Bangalore   \n",
      "2    335983        1           0       0          Chennai Super Kings   \n",
      "3    335983        2           0       0              Kings XI Punjab   \n",
      "4    335984        1           0       0             Rajasthan Royals   \n",
      "\n",
      "                  bowling_team                                       venue  \\\n",
      "0  Royal Challengers Bangalore                       M Chinnaswamy Stadium   \n",
      "1        Kolkata Knight Riders                       M Chinnaswamy Stadium   \n",
      "2              Kings XI Punjab  Punjab Cricket Association Stadium, Mohali   \n",
      "3          Chennai Super Kings  Punjab Cricket Association Stadium, Mohali   \n",
      "4             Delhi Daredevils                            Feroz Shah Kotla   \n",
      "\n",
      "   avg_team_runs  avg_venue_runs  \n",
      "0            0.0             0.0  \n",
      "1            0.0             0.0  \n",
      "2            0.0             0.0  \n",
      "3            0.0             0.0  \n",
      "4            0.0             0.0  \n"
     ]
    }
   ],
   "source": [
    "# Merge with original dataset to get metadata (e.g., teams, venue)\n",
    "match_info = df[['match_id', 'innings', 'batting_team', 'bowling_team', 'venue']].drop_duplicates()\n",
    "\n",
    "# Combine with runs data\n",
    "data = runs_per_match.merge(match_info, on=['match_id', 'innings'], how='left')\n",
    "\n",
    "# Example features\n",
    "# 1. Historical team performance in first 3 overs\n",
    "team_avg_runs = data.groupby('batting_team')['total_runs'].mean().reset_index()\n",
    "team_avg_runs.columns = ['batting_team', 'avg_team_runs']\n",
    "\n",
    "# Merge back to main data\n",
    "data = data.merge(team_avg_runs, on='batting_team', how='left')\n",
    "\n",
    "# 2. Venue scoring average\n",
    "venue_avg_runs = data.groupby('venue')['total_runs'].mean().reset_index()\n",
    "venue_avg_runs.columns = ['venue', 'avg_venue_runs']\n",
    "data = data.merge(venue_avg_runs, on='venue', how='left')\n",
    "\n",
    "print(data.head())"
   ]
  },
  {
   "cell_type": "code",
   "execution_count": 7,
   "metadata": {},
   "outputs": [
    {
     "name": "stdout",
     "output_type": "stream",
     "text": [
      "(1773, 2) (444, 2)\n"
     ]
    }
   ],
   "source": [
    "# Select features and target\n",
    "features = ['avg_team_runs', 'avg_venue_runs']  # Add more features as needed\n",
    "X = data[features]\n",
    "y = data['target']\n",
    "\n",
    "# Handle missing values (if any)\n",
    "X = X.fillna(X.mean())\n",
    "\n",
    "# Split into training and testing sets\n",
    "from sklearn.model_selection import train_test_split\n",
    "X_train, X_test, y_train, y_test = train_test_split(X, y, test_size=0.2, random_state=42)\n",
    "\n",
    "print(X_train.shape, X_test.shape)"
   ]
  },
  {
   "cell_type": "code",
   "execution_count": 10,
   "metadata": {},
   "outputs": [
    {
     "name": "stdout",
     "output_type": "stream",
     "text": [
      "   match_id  innings  total_runs  target                 batting_team  \\\n",
      "0    335982        1           0       0        Kolkata Knight Riders   \n",
      "1    335982        2           0       0  Royal Challengers Bangalore   \n",
      "2    335983        1           0       0          Chennai Super Kings   \n",
      "3    335983        2           0       0              Kings XI Punjab   \n",
      "4    335984        1           0       0             Rajasthan Royals   \n",
      "\n",
      "                  bowling_team                                       venue  \\\n",
      "0  Royal Challengers Bangalore                       M Chinnaswamy Stadium   \n",
      "1        Kolkata Knight Riders                       M Chinnaswamy Stadium   \n",
      "2              Kings XI Punjab  Punjab Cricket Association Stadium, Mohali   \n",
      "3          Chennai Super Kings  Punjab Cricket Association Stadium, Mohali   \n",
      "4             Delhi Daredevils                            Feroz Shah Kotla   \n",
      "\n",
      "   avg_team_runs  avg_venue_runs  avg_bowler_runs  \n",
      "0            0.0             0.0              0.0  \n",
      "1            0.0             0.0              0.0  \n",
      "2            0.0             0.0              0.0  \n",
      "3            0.0             0.0              0.0  \n",
      "4            0.0             0.0              0.0  \n"
     ]
    }
   ],
   "source": [
    "# Merge with match metadata\n",
    "match_info = df[['match_id', 'innings', 'batting_team', 'bowling_team', 'venue']].drop_duplicates()\n",
    "data = runs_per_match.merge(match_info, on=['match_id', 'innings'], how='left')\n",
    "\n",
    "# Feature 1: Average runs by batting team in first 3 overs\n",
    "team_avg_runs = data.groupby('batting_team')['total_runs'].mean().reset_index()\n",
    "team_avg_runs.columns = ['batting_team', 'avg_team_runs']\n",
    "data = data.merge(team_avg_runs, on='batting_team', how='left')\n",
    "\n",
    "# Feature 2: Average runs at venue in first 3 overs\n",
    "venue_avg_runs = data.groupby('venue')['total_runs'].mean().reset_index()\n",
    "venue_avg_runs.columns = ['venue', 'avg_venue_runs']\n",
    "data = data.merge(venue_avg_runs, on='venue', how='left')\n",
    "\n",
    "# Feature 3: Average runs conceded by bowling team in first 3 overs\n",
    "bowler_avg_runs = data.groupby('bowling_team')['total_runs'].mean().reset_index()\n",
    "bowler_avg_runs.columns = ['bowling_team', 'avg_bowler_runs']\n",
    "data = data.merge(bowler_avg_runs, on='bowling_team', how='left')\n",
    "\n",
    "print(data.head())"
   ]
  },
  {
   "cell_type": "code",
   "execution_count": 11,
   "metadata": {},
   "outputs": [
    {
     "name": "stdout",
     "output_type": "stream",
     "text": [
      "target\n",
      "0    1773\n",
      "Name: count, dtype: int64\n"
     ]
    }
   ],
   "source": [
    "# Select features and target\n",
    "features = ['avg_team_runs', 'avg_venue_runs', 'avg_bowler_runs']\n",
    "X = data[features]\n",
    "y = data['target']\n",
    "\n",
    "# Handle missing values (shouldn’t be any, but just in case)\n",
    "X = X.fillna(X.mean())\n",
    "\n",
    "# Split into training and testing sets with stratification\n",
    "from sklearn.model_selection import train_test_split\n",
    "X_train, X_test, y_train, y_test = train_test_split(X, y, test_size=0.2, stratify=y, random_state=42)\n",
    "\n",
    "# Check class distribution in y_train\n",
    "print(y_train.value_counts())"
   ]
  },
  {
   "cell_type": "code",
   "execution_count": 14,
   "metadata": {},
   "outputs": [
    {
     "name": "stdout",
     "output_type": "stream",
     "text": [
      "target\n",
      "0    1508\n",
      "1     265\n",
      "Name: count, dtype: int64\n",
      "Accuracy: 0.86\n"
     ]
    }
   ],
   "source": [
    "# Feature engineering\n",
    "match_info = df[['match_id', 'innings', 'batting_team', 'bowling_team', 'venue']].drop_duplicates()\n",
    "data = runs_per_match.merge(match_info, on=['match_id', 'innings'], how='left')\n",
    "\n",
    "team_avg_runs = data.groupby('batting_team')['total_runs'].mean().reset_index()\n",
    "team_avg_runs.columns = ['batting_team', 'avg_team_runs']\n",
    "data = data.merge(team_avg_runs, on='batting_team', how='left')\n",
    "\n",
    "venue_avg_runs = data.groupby('venue')['total_runs'].mean().reset_index()\n",
    "venue_avg_runs.columns = ['venue', 'avg_venue_runs']\n",
    "data = data.merge(venue_avg_runs, on='venue', how='left')\n",
    "\n",
    "bowler_avg_runs = data.groupby('bowling_team')['total_runs'].mean().reset_index()\n",
    "bowler_avg_runs.columns = ['bowling_team', 'avg_bowler_runs']\n",
    "data = data.merge(bowler_avg_runs, on='bowling_team', how='left')\n",
    "\n",
    "# Prepare data\n",
    "features = ['avg_team_runs', 'avg_venue_runs', 'avg_bowler_runs']\n",
    "X = data[features]\n",
    "y = data['target']\n",
    "X = X.fillna(X.mean())\n",
    "\n",
    "# Split\n",
    "from sklearn.model_selection import train_test_split\n",
    "X_train, X_test, y_train, y_test = train_test_split(X, y, test_size=0.2, stratify=y, random_state=42)\n",
    "print(y_train.value_counts())\n",
    "\n",
    "# Train\n",
    "from sklearn.linear_model import LogisticRegression\n",
    "from sklearn.metrics import accuracy_score\n",
    "\n",
    "model = LogisticRegression()\n",
    "model.fit(X_train, y_train)\n",
    "y_pred = model.predict(X_test)\n",
    "print(f\"Accuracy: {accuracy_score(y_test, y_pred):.2f}\")"
   ]
  },
  {
   "cell_type": "code",
   "execution_count": 15,
   "metadata": {},
   "outputs": [
    {
     "name": "stdout",
     "output_type": "stream",
     "text": [
      "Accuracy: 0.86\n"
     ]
    }
   ],
   "source": [
    "from sklearn.linear_model import LogisticRegression\n",
    "from sklearn.metrics import accuracy_score\n",
    "\n",
    "# Initialize and train\n",
    "model = LogisticRegression()\n",
    "model.fit(X_train, y_train)\n",
    "\n",
    "# Predict and evaluate\n",
    "y_pred = model.predict(X_test)\n",
    "accuracy = accuracy_score(y_test, y_pred)\n",
    "print(f\"Accuracy: {accuracy:.2f}\")"
   ]
  },
  {
   "cell_type": "code",
   "execution_count": 16,
   "metadata": {},
   "outputs": [
    {
     "name": "stdout",
     "output_type": "stream",
     "text": [
      "Accuracy: 0.86\n",
      "\n",
      "Classification Report:\n",
      "              precision    recall  f1-score   support\n",
      "\n",
      "           0       0.86      1.00      0.92       378\n",
      "           1       1.00      0.03      0.06        66\n",
      "\n",
      "    accuracy                           0.86       444\n",
      "   macro avg       0.93      0.52      0.49       444\n",
      "weighted avg       0.88      0.86      0.79       444\n",
      "\n"
     ]
    }
   ],
   "source": [
    "from sklearn.metrics import classification_report\n",
    "\n",
    "# Predict and evaluate\n",
    "y_pred = model.predict(X_test)\n",
    "print(f\"Accuracy: {accuracy_score(y_test, y_pred):.2f}\")\n",
    "print(\"\\nClassification Report:\")\n",
    "print(classification_report(y_test, y_pred))"
   ]
  },
  {
   "cell_type": "code",
   "execution_count": 17,
   "metadata": {},
   "outputs": [
    {
     "name": "stdout",
     "output_type": "stream",
     "text": [
      "\n",
      "Probability of 30+ runs: 0.31\n",
      "Prediction: No\n"
     ]
    },
    {
     "name": "stderr",
     "output_type": "stream",
     "text": [
      "C:\\Users\\Pulkit\\AppData\\Local\\Packages\\PythonSoftwareFoundation.Python.3.11_qbz5n2kfra8p0\\LocalCache\\local-packages\\Python311\\site-packages\\sklearn\\utils\\validation.py:2739: UserWarning: X does not have valid feature names, but LogisticRegression was fitted with feature names\n",
      "  warnings.warn(\n",
      "C:\\Users\\Pulkit\\AppData\\Local\\Packages\\PythonSoftwareFoundation.Python.3.11_qbz5n2kfra8p0\\LocalCache\\local-packages\\Python311\\site-packages\\sklearn\\utils\\validation.py:2739: UserWarning: X does not have valid feature names, but LogisticRegression was fitted with feature names\n",
      "  warnings.warn(\n"
     ]
    }
   ],
   "source": [
    "# Example prediction\n",
    "new_match = [[25, 24, 22]]  # Adjust based on realistic values\n",
    "probability = model.predict_proba(new_match)[0][1]\n",
    "prediction = model.predict(new_match)\n",
    "print(f\"\\nProbability of 30+ runs: {probability:.2f}\")\n",
    "print(f\"Prediction: {'Yes' if prediction[0] == 1 else 'No'}\")"
   ]
  },
  {
   "cell_type": "code",
   "execution_count": 2,
   "metadata": {},
   "outputs": [
    {
     "name": "stdout",
     "output_type": "stream",
     "text": [
      "Accuracy: 0.86\n",
      "\n",
      "Classification Report:\n",
      "              precision    recall  f1-score   support\n",
      "\n",
      "           0       0.86      1.00      0.92       378\n",
      "           1       1.00      0.03      0.06        66\n",
      "\n",
      "    accuracy                           0.86       444\n",
      "   macro avg       0.93      0.52      0.49       444\n",
      "weighted avg       0.88      0.86      0.79       444\n",
      "\n"
     ]
    }
   ],
   "source": [
    "import pandas as pd\n",
    "from sklearn.model_selection import train_test_split\n",
    "from sklearn.linear_model import LogisticRegression\n",
    "from sklearn.metrics import accuracy_score, classification_report\n",
    "\n",
    "# Load the dataset\n",
    "df = pd.read_csv('IPL.csv', low_memory=False)\n",
    "\n",
    "# Filter for first 3 overs\n",
    "df_first_3 = df[df['over'] <= 2].copy()\n",
    "df_first_3.loc[:, 'total_runs'] = df_first_3['runs_batter'] + df_first_3['runs_extras']\n",
    "\n",
    "# Group by match_id and innings\n",
    "runs_per_match = df_first_3.groupby(['match_id', 'innings'])['total_runs'].sum().reset_index()\n",
    "runs_per_match['target'] = (runs_per_match['total_runs'] >= 30).astype(int)\n",
    "\n",
    "# Feature engineering\n",
    "match_info = df[['match_id', 'innings', 'batting_team', 'bowling_team', 'venue']].drop_duplicates()\n",
    "data = runs_per_match.merge(match_info, on=['match_id', 'innings'], how='left')\n",
    "\n",
    "# Create lookup tables\n",
    "team_avg_runs = data.groupby('batting_team')['total_runs'].mean().reset_index()\n",
    "team_avg_runs.columns = ['batting_team', 'avg_team_runs']\n",
    "\n",
    "venue_avg_runs = data.groupby('venue')['total_runs'].mean().reset_index()\n",
    "venue_avg_runs.columns = ['venue', 'avg_venue_runs']\n",
    "\n",
    "bowler_avg_runs = data.groupby('bowling_team')['total_runs'].mean().reset_index()\n",
    "bowler_avg_runs.columns = ['bowling_team', 'avg_bowler_runs']\n",
    "\n",
    "# Prepare data for training\n",
    "data = data.merge(team_avg_runs, on='batting_team', how='left')\n",
    "data = data.merge(venue_avg_runs, on='venue', how='left')\n",
    "data = data.merge(bowler_avg_runs, on='bowling_team', how='left')\n",
    "\n",
    "features = ['avg_team_runs', 'avg_venue_runs', 'avg_bowler_runs']\n",
    "X = data[features]\n",
    "y = data['target']\n",
    "X = X.fillna(X.mean())\n",
    "\n",
    "# Split and train\n",
    "X_train, X_test, y_train, y_test = train_test_split(X, y, test_size=0.2, stratify=y, random_state=42)\n",
    "model = LogisticRegression()\n",
    "model.fit(X_train, y_train)\n",
    "\n",
    "# Evaluate\n",
    "y_pred = model.predict(X_test)\n",
    "print(f\"Accuracy: {accuracy_score(y_test, y_pred):.2f}\")\n",
    "print(\"\\nClassification Report:\")\n",
    "print(classification_report(y_test, y_pred))\n",
    "\n",
    "# Prediction function\n",
    "def predict_runs(batting_team, bowling_team, venue):\n",
    "    try:\n",
    "        # Fetch feature values from lookup tables\n",
    "        avg_team_runs = team_avg_runs.loc[team_avg_runs['batting_team'] == batting_team, 'avg_team_runs'].values[0]\n",
    "        avg_venue_runs = venue_avg_runs.loc[venue_avg_runs['venue'] == venue, 'avg_venue_runs'].values[0]\n",
    "        avg_bowler_runs = bowler_avg_runs.loc[bowler_avg_runs['bowling_team'] == bowling_team, 'avg_bowler_runs'].values[0]\n",
    "        \n",
    "        # Create input for model\n",
    "        new_match = [[avg_team_runs, avg_venue_runs, avg_bowler_runs]]\n",
    "        \n",
    "        # Predict\n",
    "        probability = model.predict_proba(new_match)[0][1]\n",
    "        prediction = model.predict(new_match)[0]\n",
    "        \n",
    "        # Output\n",
    "        print(f\"\\nPrediction for {batting_team} vs {bowling_team} at {venue}:\")\n",
    "        print(f\"Probability of 30+ runs: {probability:.2f}\")\n",
    "        print(f\"Prediction: {'Yes' if prediction == 1 else 'No'}\")\n",
    "        \n",
    "        return probability, prediction\n",
    "    except IndexError:\n",
    "        print(\"Error: One or more inputs not found in the dataset. Check team names and venue.\")\n",
    "        return None, None\n"
   ]
  },
  {
   "cell_type": "code",
   "execution_count": 3,
   "metadata": {},
   "outputs": [
    {
     "name": "stdout",
     "output_type": "stream",
     "text": [
      "\n",
      "Prediction for Kolkata Knight Riders vs Chennai Super Kings at Eden Gardens:\n",
      "Probability of 30+ runs: 0.18\n",
      "Prediction: No\n"
     ]
    },
    {
     "name": "stderr",
     "output_type": "stream",
     "text": [
      "C:\\Users\\Pulkit\\AppData\\Local\\Packages\\PythonSoftwareFoundation.Python.3.11_qbz5n2kfra8p0\\LocalCache\\local-packages\\Python311\\site-packages\\sklearn\\utils\\validation.py:2739: UserWarning: X does not have valid feature names, but LogisticRegression was fitted with feature names\n",
      "  warnings.warn(\n",
      "C:\\Users\\Pulkit\\AppData\\Local\\Packages\\PythonSoftwareFoundation.Python.3.11_qbz5n2kfra8p0\\LocalCache\\local-packages\\Python311\\site-packages\\sklearn\\utils\\validation.py:2739: UserWarning: X does not have valid feature names, but LogisticRegression was fitted with feature names\n",
      "  warnings.warn(\n"
     ]
    },
    {
     "data": {
      "text/plain": [
       "(0.1805725360595095, 0)"
      ]
     },
     "execution_count": 3,
     "metadata": {},
     "output_type": "execute_result"
    }
   ],
   "source": [
    "\n",
    "# Usage\n",
    "predict_runs(\"Kolkata Knight Riders\", \"Chennai Super Kings\", \"Eden Gardens\")\n"
   ]
  },
  {
   "cell_type": "code",
   "execution_count": 5,
   "metadata": {},
   "outputs": [
    {
     "name": "stdout",
     "output_type": "stream",
     "text": [
      "\n",
      "Model and lookup tables saved successfully!\n"
     ]
    }
   ],
   "source": [
    "import joblib\n",
    "# Save the model and lookup tables\n",
    "joblib.dump(model, 'ipl_runs_model.pkl')\n",
    "joblib.dump(team_avg_runs, 'team_avg_runs.pkl')\n",
    "joblib.dump(venue_avg_runs, 'venue_avg_runs.pkl')\n",
    "joblib.dump(bowler_avg_runs, 'bowler_avg_runs.pkl')\n",
    "print(\"\\nModel and lookup tables saved successfully!\")"
   ]
  },
  {
   "cell_type": "code",
   "execution_count": 6,
   "metadata": {},
   "outputs": [
    {
     "name": "stdout",
     "output_type": "stream",
     "text": [
      "\n",
      "Prediction for Mumbai Indians vs Royal Challengers Bangalore at Wankhede Stadium:\n",
      "Probability of 30+ runs: 0.10\n",
      "Prediction: No\n",
      "\n",
      "Prediction for Delhi Capitals vs Rajasthan Royals at Arun Jaitley Stadium:\n",
      "Probability of 30+ runs: 0.21\n",
      "Prediction: No\n"
     ]
    },
    {
     "name": "stderr",
     "output_type": "stream",
     "text": [
      "C:\\Users\\Pulkit\\AppData\\Local\\Packages\\PythonSoftwareFoundation.Python.3.11_qbz5n2kfra8p0\\LocalCache\\local-packages\\Python311\\site-packages\\sklearn\\utils\\validation.py:2739: UserWarning: X does not have valid feature names, but LogisticRegression was fitted with feature names\n",
      "  warnings.warn(\n",
      "C:\\Users\\Pulkit\\AppData\\Local\\Packages\\PythonSoftwareFoundation.Python.3.11_qbz5n2kfra8p0\\LocalCache\\local-packages\\Python311\\site-packages\\sklearn\\utils\\validation.py:2739: UserWarning: X does not have valid feature names, but LogisticRegression was fitted with feature names\n",
      "  warnings.warn(\n",
      "C:\\Users\\Pulkit\\AppData\\Local\\Packages\\PythonSoftwareFoundation.Python.3.11_qbz5n2kfra8p0\\LocalCache\\local-packages\\Python311\\site-packages\\sklearn\\utils\\validation.py:2739: UserWarning: X does not have valid feature names, but LogisticRegression was fitted with feature names\n",
      "  warnings.warn(\n",
      "C:\\Users\\Pulkit\\AppData\\Local\\Packages\\PythonSoftwareFoundation.Python.3.11_qbz5n2kfra8p0\\LocalCache\\local-packages\\Python311\\site-packages\\sklearn\\utils\\validation.py:2739: UserWarning: X does not have valid feature names, but LogisticRegression was fitted with feature names\n",
      "  warnings.warn(\n"
     ]
    },
    {
     "data": {
      "text/plain": [
       "(0.21398450345480413, 0)"
      ]
     },
     "execution_count": 6,
     "metadata": {},
     "output_type": "execute_result"
    }
   ],
   "source": [
    "import joblib\n",
    "\n",
    "# Load the model and lookup tables\n",
    "model = joblib.load('ipl_runs_model.pkl')\n",
    "team_avg_runs = joblib.load('team_avg_runs.pkl')\n",
    "venue_avg_runs = joblib.load('venue_avg_runs.pkl')\n",
    "bowler_avg_runs = joblib.load('bowler_avg_runs.pkl')\n",
    "\n",
    "# Prediction function\n",
    "def predict_runs(batting_team, bowling_team, venue):\n",
    "    try:\n",
    "        avg_team_runs = team_avg_runs.loc[team_avg_runs['batting_team'] == batting_team, 'avg_team_runs'].values[0]\n",
    "        avg_venue_runs = venue_avg_runs.loc[venue_avg_runs['venue'] == venue, 'avg_venue_runs'].values[0]\n",
    "        avg_bowler_runs = bowler_avg_runs.loc[bowler_avg_runs['bowling_team'] == bowling_team, 'avg_bowler_runs'].values[0]\n",
    "        \n",
    "        new_match = [[avg_team_runs, avg_venue_runs, avg_bowler_runs]]\n",
    "        probability = model.predict_proba(new_match)[0][1]\n",
    "        prediction = model.predict(new_match)[0]\n",
    "        \n",
    "        print(f\"\\nPrediction for {batting_team} vs {bowling_team} at {venue}:\")\n",
    "        print(f\"Probability of 30+ runs: {probability:.2f}\")\n",
    "        print(f\"Prediction: {'Yes' if prediction == 1 else 'No'}\")\n",
    "        \n",
    "        return probability, prediction\n",
    "    except IndexError:\n",
    "        print(\"Error: One or more inputs not found in the dataset. Check team names and venue.\")\n",
    "        return None, None\n",
    "\n",
    "# Example usage\n",
    "predict_runs(\"Mumbai Indians\", \"Royal Challengers Bangalore\", \"Wankhede Stadium\")\n",
    "predict_runs(\"Delhi Capitals\", \"Rajasthan Royals\", \"Arun Jaitley Stadium\")"
   ]
  },
  {
   "cell_type": "code",
   "execution_count": null,
   "metadata": {},
   "outputs": [],
   "source": []
  }
 ],
 "metadata": {
  "kernelspec": {
   "display_name": "Python 3",
   "language": "python",
   "name": "python3"
  },
  "language_info": {
   "codemirror_mode": {
    "name": "ipython",
    "version": 3
   },
   "file_extension": ".py",
   "mimetype": "text/x-python",
   "name": "python",
   "nbconvert_exporter": "python",
   "pygments_lexer": "ipython3",
   "version": "3.11.9"
  }
 },
 "nbformat": 4,
 "nbformat_minor": 2
}
